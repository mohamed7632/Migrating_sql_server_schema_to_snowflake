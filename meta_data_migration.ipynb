{
 "cells": [
  {
   "cell_type": "code",
   "execution_count": 1,
   "id": "4a3bd8ab",
   "metadata": {},
   "outputs": [],
   "source": [
    "from sqlalchemy import create_engine\n",
    "from snowflake.sqlalchemy import URL\n",
    "import pyodbc\n",
    "import pandas as pd"
   ]
  },
  {
   "cell_type": "markdown",
   "id": "5731af3c",
   "metadata": {},
   "source": [
    "## connect to microsoft-sql-server through pyodbc"
   ]
  },
  {
   "cell_type": "code",
   "execution_count": 24,
   "id": "30cb1b05",
   "metadata": {},
   "outputs": [],
   "source": [
    "\n",
    "conn = pyodbc.connect('Driver={SQL Server};'\n",
    "                      'Server=DN-MSHERIF\\SQLEXPRESS;'\n",
    "                      'Database=Demo;'\n",
    "                      'Trusted_Connection=yes;')\n",
    "cursor = conn.cursor()\n",
    "\n"
   ]
  },
  {
   "cell_type": "markdown",
   "id": "6cad2ebb",
   "metadata": {},
   "source": [
    "## Retrieve SQL Server metadata"
   ]
  },
  {
   "cell_type": "code",
   "execution_count": 25,
   "id": "dc4c8214",
   "metadata": {},
   "outputs": [],
   "source": [
    "\n",
    "sql_query_tables = \"SELECT * FROM INFORMATION_SCHEMA.TABLES\"  \n",
    "cursor.execute(sql_query_tables)\n",
    "\n",
    "metadata_results = cursor.fetchall()\n",
    "table_name=''\n",
    "tables_list =[]\n",
    "for metadata_row in metadata_results:\n",
    "    table_name = metadata_row.TABLE_NAME\n",
    "    tables_list.append(table_name)\n",
    "    "
   ]
  },
  {
   "cell_type": "code",
   "execution_count": 28,
   "id": "9d73a850",
   "metadata": {
    "scrolled": false
   },
   "outputs": [],
   "source": [
    "metadata = []\n",
    "for i in range(len(tables_list)):\n",
    "    sql_query_columns = \"SELECT column_name, data_type ,TABLE_NAME from INFORMATION_SCHEMA.COLUMNS where TABLE_NAME ='\" + str(tables_list[i]) + \"' \"\n",
    "    cursor.execute(sql_query_columns)\n",
    "    metadata_results = cursor.fetchall()\n",
    "    metadata.append(metadata_results)\n",
    "    "
   ]
  },
  {
   "cell_type": "markdown",
   "id": "000f513c",
   "metadata": {},
   "source": [
    "## connect to snowflake account"
   ]
  },
  {
   "cell_type": "code",
   "execution_count": 5,
   "id": "e9109124",
   "metadata": {},
   "outputs": [],
   "source": [
    "engine = create_engine(URL(\n",
    "    account='UCLSGAD-LY00738',\n",
    "    user = 'sherif1922',\n",
    "    password = 'Mohamed1922',\n",
    "    database = 'MIGRATION',\n",
    "    schema = 'public',\n",
    "    warehouse = 'COMPUTE_WH',\n",
    "    role='ACCOUNTADMIN',\n",
    "))\n",
    "\n"
   ]
  },
  {
   "cell_type": "code",
   "execution_count": 6,
   "id": "bfcbac14",
   "metadata": {
    "scrolled": true
   },
   "outputs": [
    {
     "name": "stdout",
     "output_type": "stream",
     "text": [
      "7.17.0\n"
     ]
    }
   ],
   "source": [
    "snowflake_conn = engine.connect()\n",
    "results = snowflake_conn.execute('select current_version()').fetchone()\n",
    "print(results[0])"
   ]
  },
  {
   "cell_type": "markdown",
   "id": "63d6faa6",
   "metadata": {},
   "source": [
    "## create tables from the meta-data fetched from sql-server at snowflake"
   ]
  },
  {
   "cell_type": "code",
   "execution_count": 29,
   "id": "af7facc5",
   "metadata": {
    "scrolled": true
   },
   "outputs": [],
   "source": [
    "create_stmt_list = []\n",
    "for index in range(len(metadata)):\n",
    "    create_table_sql = f\"CREATE OR REPLACE TABLE {metadata[index][0].TABLE_NAME} (\"\n",
    "    for row in metadata[index]:\n",
    "            column_name, data_type ,table_name = row\n",
    "            create_table_sql += f\" {column_name} {data_type}, \"\n",
    "            #table_index+=1\n",
    "    create_table_sql = create_table_sql.rstrip(\", \") + \")\"\n",
    "    create_stmt_list.append(create_table_sql)\n",
    "    \n",
    "for stmt in create_stmt_list:\n",
    "    snowflake_conn.execute(stmt)\n",
    "\n",
    "\n"
   ]
  },
  {
   "cell_type": "markdown",
   "id": "ebdf4552",
   "metadata": {},
   "source": [
    "## retrieve the data from sql server"
   ]
  },
  {
   "cell_type": "code",
   "execution_count": 30,
   "id": "ef9d0b37",
   "metadata": {},
   "outputs": [],
   "source": [
    "db_data_list = []\n",
    "for i in range(len(tables_list)):\n",
    "    sql_query = 'SELECT * FROM \"' + tables_list[i] + '\" '\n",
    "    cursor.execute(sql_query)\n",
    "    data = cursor.fetchall()\n",
    "    db_data_list.append(data)\n"
   ]
  },
  {
   "cell_type": "markdown",
   "id": "cbb6331f",
   "metadata": {},
   "source": [
    "## migrate data to snowflake"
   ]
  },
  {
   "cell_type": "code",
   "execution_count": 31,
   "id": "db5aaa79",
   "metadata": {},
   "outputs": [],
   "source": [
    "insert_stmt_list = []\n",
    "for index in range(len(tables_list)):\n",
    "    \n",
    "    for row in db_data_list[index]:\n",
    "        insert_table_sql = f\"INSERT INTO  {metadata[index][0].TABLE_NAME} values (\"\n",
    "        for col in row:\n",
    "  \n",
    "            if isinstance(col, str) :\n",
    "                insert_table_sql += f\"'{col}',\"\n",
    "            else:\n",
    "                insert_table_sql += f\" {col},\"\n",
    "            \n",
    "        insert_table_sql = insert_table_sql.rstrip(\",\") + \")\"\n",
    "        insert_stmt_list.append(insert_table_sql)\n",
    "for stmt in insert_stmt_list:\n",
    "    snowflake_conn.execute(stmt)\n"
   ]
  },
  {
   "cell_type": "code",
   "execution_count": null,
   "id": "e19aa12a",
   "metadata": {},
   "outputs": [],
   "source": []
  }
 ],
 "metadata": {
  "kernelspec": {
   "display_name": "Python 3 (ipykernel)",
   "language": "python",
   "name": "python3"
  },
  "language_info": {
   "codemirror_mode": {
    "name": "ipython",
    "version": 3
   },
   "file_extension": ".py",
   "mimetype": "text/x-python",
   "name": "python",
   "nbconvert_exporter": "python",
   "pygments_lexer": "ipython3",
   "version": "3.8.16"
  }
 },
 "nbformat": 4,
 "nbformat_minor": 5
}
